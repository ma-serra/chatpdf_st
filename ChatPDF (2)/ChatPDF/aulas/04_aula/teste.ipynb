{
 "cells": [
  {
   "cell_type": "code",
   "execution_count": 8,
   "metadata": {},
   "outputs": [],
   "source": [
    "from pathlib import Path\n",
    "\n",
    "from langchain.chains.conversational_retrieval.base import ConversationalRetrievalChain\n",
    "from langchain.memory import ConversationBufferMemory\n",
    "from langchain_community.document_loaders.pdf import PyPDFLoader\n",
    "from langchain_community.vectorstores.faiss import FAISS\n",
    "from langchain_text_splitters import RecursiveCharacterTextSplitter\n",
    "from langchain_openai.embeddings import OpenAIEmbeddings\n",
    "from langchain_openai.chat_models import ChatOpenAI\n",
    "\n",
    "\n",
    "PASTA_ARQUIVOS = Path('C:/Users/avsoares/OneDrive/Documentos/GitHub/courses/Langchain/projeto/teste.ipynb').parent / 'arquivos'\n",
    "MODEL_NAME = 'gpt-3.5-turbo-0125'\n",
    "\n",
    "\n",
    "def importacao_documentos():\n",
    "    documentos = []\n",
    "    for arquivo in PASTA_ARQUIVOS.glob('*.pdf'):\n",
    "        loader = PyPDFLoader(str(arquivo))\n",
    "        documentos_arquivo = loader.load()\n",
    "        documentos.extend(documentos_arquivo)\n",
    "    return documentos\n",
    "\n",
    "def split_de_documentos(documentos):\n",
    "    recur_splitter = RecursiveCharacterTextSplitter(\n",
    "        chunk_size=2500,\n",
    "        chunk_overlap=250,\n",
    "        separators=[\"/n\\n\", \"\\n\", \".\", \" \", \"\"]\n",
    "    )\n",
    "    documentos = recur_splitter.split_documents(documentos)\n",
    "\n",
    "    for i, doc in enumerate(documentos):\n",
    "        doc.metadata['source'] = doc.metadata['source'].split('/')[-1]\n",
    "        doc.metadata['doc_id'] = i\n",
    "    return documentos\n",
    "\n",
    "def cria_vector_store(documentos):\n",
    "    embedding_model = OpenAIEmbeddings()\n",
    "    vector_store = FAISS.from_documents(\n",
    "        documents=documentos,\n",
    "        embedding=embedding_model\n",
    "    )\n",
    "    return vector_store\n",
    "\n",
    "def cria_chain_conversa(vector_store):\n",
    "    chat = ChatOpenAI(model=MODEL_NAME)\n",
    "    memory = ConversationBufferMemory(\n",
    "        return_messages=True,\n",
    "        memory_key='chat_history',\n",
    "        output_key='answer'\n",
    "        )\n",
    "    retriever = vector_store.as_retriever()\n",
    "    chat_chain = ConversationalRetrievalChain.from_llm(\n",
    "        llm=chat,\n",
    "        memory=memory,\n",
    "        retriever=retriever,\n",
    "        return_source_documents=True,\n",
    "        verbose=True\n",
    "    )\n",
    "    return chat_chain"
   ]
  },
  {
   "cell_type": "code",
   "execution_count": 9,
   "metadata": {},
   "outputs": [],
   "source": [
    "documentos = importacao_documentos()\n",
    "documentos = split_de_documentos(documentos)\n",
    "vector_store = cria_vector_store(documentos)\n",
    "chain = cria_chain_conversa(vector_store)"
   ]
  },
  {
   "cell_type": "code",
   "execution_count": 10,
   "metadata": {},
   "outputs": [
    {
     "name": "stdout",
     "output_type": "stream",
     "text": [
      "\n",
      "\n",
      "\u001b[1m> Entering new StuffDocumentsChain chain...\u001b[0m\n",
      "\n",
      "\n",
      "\u001b[1m> Entering new LLMChain chain...\u001b[0m\n",
      "Prompt after formatting:\n",
      "\u001b[32;1m\u001b[1;3mSystem: Use the following pieces of context to answer the user's question. \n",
      "If you don't know the answer, just say that you don't know, don't try to make up an answer.\n",
      "----------------\n",
      "Explorando a API da OpenAI\n",
      "A OpenAI\n",
      "Nosso objetivo é explorar a API da OpenAI, a maior desenvolvedora de ferramentas de inteligência\n",
      "artificial do mundo na atualidade. O modelo ChatGPT é apenas um dos vários modelos criados pela\n",
      "empresa nos últimos anos. A seguir, apresentamos alguns dos principais modelos e suas funções:\n",
      "•GPT-4: Trata-se de um modelo de linguagem de grande escala (LLM) multimodal, que aceita\n",
      "entradas de texto ou imagem e produz texto. Ele é capaz de resolver problemas complexos com\n",
      "maior precisão do que os modelos anteriores da OpenAI.\n",
      "•DALL-E: Este sistema de IA pode criar imagens e arte realistas a partir de descrições textuais. O\n",
      "DALL ·E 3, em particular, suporta a capacidade de gerar novas imagens em tamanhos específicos,\n",
      "com base em sugestões fornecidas.\n",
      "•TTS: É um modelo de IA que transforma texto em fala com uma sonoridade natural.\n",
      "•Whisper: O Whisper é um modelo de reconhecimento de fala de uso geral, treinado em um\n",
      "vasto conjunto de dados de áudio diversificado. Ele é um modelo multi-tarefa capaz de realizar\n",
      "reconhecimento de fala em múltiplos idiomas, além de tradução de fala e identificação de\n",
      "idioma.\n",
      "Acessando a documentação da API\n",
      "Para acessar a API da documentação, basta clicar aqui.\n",
      "Asimov Academy 6\n",
      "\n",
      "Explorando a API da OpenAI\n",
      "Asimov Academy\n",
      "\n",
      "Explorando a API da OpenAI\n",
      "Guias\n",
      "Também está disponível diversos guias de boas práticas recomendadas ao utilizar os modelos da\n",
      "OpenAI.\n",
      "Asimov Academy 9\n",
      "\n",
      "Explorando a API da OpenAI\n",
      "Asimov Academy 16\n",
      "Human: O que é a openAI?\u001b[0m\n",
      "\n",
      "\u001b[1m> Finished chain.\u001b[0m\n",
      "\n",
      "\u001b[1m> Finished chain.\u001b[0m\n"
     ]
    },
    {
     "data": {
      "text/plain": [
       "{'question': 'O que é a openAI?',\n",
       " 'chat_history': [HumanMessage(content='O que é a openAI?'),\n",
       "  AIMessage(content='A OpenAI é a maior desenvolvedora de ferramentas de inteligência artificial do mundo na atualidade. Ela é responsável por criar diversos modelos de IA, como o GPT-4, DALL-E, TTS, e Whisper, que possuem funcionalidades específicas, como linguagem de grande escala, criação de imagens realistas a partir de descrições textuais, transformação de texto em fala, reconhecimento de fala e tradução de idiomas.')],\n",
       " 'answer': 'A OpenAI é a maior desenvolvedora de ferramentas de inteligência artificial do mundo na atualidade. Ela é responsável por criar diversos modelos de IA, como o GPT-4, DALL-E, TTS, e Whisper, que possuem funcionalidades específicas, como linguagem de grande escala, criação de imagens realistas a partir de descrições textuais, transformação de texto em fala, reconhecimento de fala e tradução de idiomas.',\n",
       " 'source_documents': [Document(page_content='Explorando a API da OpenAI\\nA OpenAI\\nNosso objetivo é explorar a API da OpenAI, a maior desenvolvedora de ferramentas de inteligência\\nartificial do mundo na atualidade. O modelo ChatGPT é apenas um dos vários modelos criados pela\\nempresa nos últimos anos. A seguir, apresentamos alguns dos principais modelos e suas funções:\\n•GPT-4: Trata-se de um modelo de linguagem de grande escala (LLM) multimodal, que aceita\\nentradas de texto ou imagem e produz texto. Ele é capaz de resolver problemas complexos com\\nmaior precisão do que os modelos anteriores da OpenAI.\\n•DALL-E: Este sistema de IA pode criar imagens e arte realistas a partir de descrições textuais. O\\nDALL ·E 3, em particular, suporta a capacidade de gerar novas imagens em tamanhos específicos,\\ncom base em sugestões fornecidas.\\n•TTS: É um modelo de IA que transforma texto em fala com uma sonoridade natural.\\n•Whisper: O Whisper é um modelo de reconhecimento de fala de uso geral, treinado em um\\nvasto conjunto de dados de áudio diversificado. Ele é um modelo multi-tarefa capaz de realizar\\nreconhecimento de fala em múltiplos idiomas, além de tradução de fala e identificação de\\nidioma.\\nAcessando a documentação da API\\nPara acessar a API da documentação, basta clicar aqui.\\nAsimov Academy 6', metadata={'source': 'C:\\\\Users\\\\avsoares\\\\OneDrive\\\\Documentos\\\\GitHub\\\\courses\\\\Langchain\\\\projeto\\\\arquivos\\\\Apostila - Explorando a API da OpenAI.pdf', 'page': 6, 'doc_id': 9}),\n",
       "  Document(page_content='Explorando a API da OpenAI\\nAsimov Academy', metadata={'source': 'C:\\\\Users\\\\avsoares\\\\OneDrive\\\\Documentos\\\\GitHub\\\\courses\\\\Langchain\\\\projeto\\\\arquivos\\\\Apostila - Explorando a API da OpenAI.pdf', 'page': 0, 'doc_id': 0}),\n",
       "  Document(page_content='Explorando a API da OpenAI\\nGuias\\nTambém está disponível diversos guias de boas práticas recomendadas ao utilizar os modelos da\\nOpenAI.\\nAsimov Academy 9', metadata={'source': 'C:\\\\Users\\\\avsoares\\\\OneDrive\\\\Documentos\\\\GitHub\\\\courses\\\\Langchain\\\\projeto\\\\arquivos\\\\Apostila - Explorando a API da OpenAI.pdf', 'page': 9, 'doc_id': 12}),\n",
       "  Document(page_content='Explorando a API da OpenAI\\nAsimov Academy 16', metadata={'source': 'C:\\\\Users\\\\avsoares\\\\OneDrive\\\\Documentos\\\\GitHub\\\\courses\\\\Langchain\\\\projeto\\\\arquivos\\\\Apostila - Explorando a API da OpenAI.pdf', 'page': 16, 'doc_id': 19})]}"
      ]
     },
     "execution_count": 10,
     "metadata": {},
     "output_type": "execute_result"
    }
   ],
   "source": [
    "chain.invoke({'question': 'O que é a openAI?'})"
   ]
  },
  {
   "cell_type": "code",
   "execution_count": null,
   "metadata": {},
   "outputs": [],
   "source": []
  }
 ],
 "metadata": {
  "kernelspec": {
   "display_name": ".venv",
   "language": "python",
   "name": "python3"
  },
  "language_info": {
   "codemirror_mode": {
    "name": "ipython",
    "version": 3
   },
   "file_extension": ".py",
   "mimetype": "text/x-python",
   "name": "python",
   "nbconvert_exporter": "python",
   "pygments_lexer": "ipython3",
   "version": "3.11.4"
  }
 },
 "nbformat": 4,
 "nbformat_minor": 2
}
